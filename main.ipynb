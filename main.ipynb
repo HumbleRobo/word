{
 "cells": [
  {
   "cell_type": "code",
   "execution_count": null,
   "metadata": {},
   "outputs": [
    {
     "name": "stdout",
     "output_type": "stream",
     "text": [
      "1940 words of length 4 found\n"
     ]
    }
   ],
   "source": [
    "import re\n",
    "from heapq import heappush, heappop\n",
    "\n",
    "filename = '6of12.txt'\n",
    "with open(filename) as f:\n",
    "    words = f.read().splitlines()\n",
    "    volcaulary = set()\n",
    "    for word in words:\n",
    "        g = re.match('([A-Za-z]+)([^A-Za-z]*)', word)\n",
    "        if g and g.group(1):\n",
    "            volcaulary.add(g.group(1).lower())\n",
    "    \n",
    "    word_length = 4\n",
    "    sorted_words = sorted([word for word in volcaulary if len(word) == word_length])\n",
    "    n = len(sorted_words)\n",
    "    print(f'{n} words of length {word_length} found')\n",
    "\n",
    "    edges = 0\n",
    "    adj = [[] for _ in range(n)]\n",
    "    for i in range(n):\n",
    "        for j in range(i):\n",
    "            if i != j:\n",
    "                if sum(sorted_words[i][k] != sorted_words[j][k] for k in range(word_length)) == 1:\n",
    "                    adj[i].append(j)\n",
    "                    adj[j].append(i)\n",
    "                    edges += 1\n",
    "    print(f'{edges} edges found')\n",
    "\n",
    "    dist = [[float('inf')] * n for _ in range(n)]\n",
    "    for i in range(n):\n",
    "        heap = [(0, i)]\n",
    "        while heap:\n",
    "            d, u = heappop(heap)\n",
    "            if d >= dist[i][u]:\n",
    "                continue\n",
    "            dist[i][u] = d\n",
    "            for v in adj[u]:\n",
    "                if d + 1 < dist[i][v]:\n",
    "                    heappush(heap, (d + 1, v))\n",
    "    \n",
    "    max_dist = 0\n",
    "    for i in range(n):\n",
    "        for j in range(i):\n",
    "            if dist[i][j] != float('inf'):\n",
    "                max_dist = max(max_dist, dist[i][j])\n",
    "    print(f'Maximum distance between any two words of length {word_length} is {max_dist}')\n",
    "\n",
    "    longest_chain = []\n",
    "    start = end = None\n",
    "    for i in range(n):\n",
    "        for j in range(n):\n",
    "            if dist[i][j] == max_dist:\n",
    "                start, end = i, j\n",
    "                break\n",
    "    for d in range(max_dist, 1, -1):\n",
    "        for k in range(n):\n",
    "            if dist[start][k] == 1 and dist[k][end] == d-1:\n",
    "                longest_chain.append(sorted_words[start])\n",
    "                start = k\n",
    "                break\n",
    "    longest_chain.append(sorted_words[start])\n",
    "    longest_chain.append(sorted_words[end])\n",
    "    print(f'Longest chain of words of length {word_length}:')\n",
    "    for i in range(len(longest_chain) - 1):\n",
    "        print(longest_chain[i])\n",
    "        for j in range(word_length):\n",
    "            if longest_chain[i][j] != longest_chain[i+1][j]:\n",
    "                print('|', end='')\n",
    "            else:\n",
    "                print(' ', end='')\n",
    "        print()\n",
    "    print(longest_chain[-1])"
   ]
  }
 ],
 "metadata": {
  "kernelspec": {
   "display_name": "Python 3",
   "language": "python",
   "name": "python3"
  },
  "language_info": {
   "codemirror_mode": {
    "name": "ipython",
    "version": 3
   },
   "file_extension": ".py",
   "mimetype": "text/x-python",
   "name": "python",
   "nbconvert_exporter": "python",
   "pygments_lexer": "ipython3",
   "version": "3.11.2"
  }
 },
 "nbformat": 4,
 "nbformat_minor": 2
}
